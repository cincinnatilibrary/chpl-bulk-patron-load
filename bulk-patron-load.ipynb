{
 "cells": [
  {
   "cell_type": "markdown",
   "id": "b41acec7-4782-4fe8-80f0-d3e2d9355e25",
   "metadata": {},
   "source": [
    "# CHPL Bulk Patron Load -- Sierra REST API\n",
    "\n",
    "The purpose of this notebook is to create patron records in bulk from an Excel spreadsheet"
   ]
  },
  {
   "cell_type": "code",
   "execution_count": 1,
   "id": "535c682f-4fdd-4cb9-a930-03d537464024",
   "metadata": {},
   "outputs": [
    {
     "name": "stdout",
     "output_type": "stream",
     "text": [
      "/home/ray/Documents/jupyter/sierra-ils-utils/bulk-patron-load\n"
     ]
    }
   ],
   "source": [
    "!pip install -U sierra-ils-utils --quiet\n",
    "!pip install -U pandas --quiet\n",
    "!pip install -U openpyxl --quiet\n",
    "!pwd"
   ]
  },
  {
   "cell_type": "code",
   "execution_count": 2,
   "id": "ac473f09-3454-49de-bf88-8ed82b30f8c3",
   "metadata": {},
   "outputs": [],
   "source": [
    "import asyncio\n",
    "import json\n",
    "import logging\n",
    "import pandas as pd\n",
    "import re\n",
    "from sierra_ils_utils import SierraAPI\n",
    "\n",
    "logging.basicConfig(\n",
    "    level=logging.INFO,\n",
    "    format='%(asctime)s - %(name)s - %(levelname)s - %(message)s',\n",
    "    filename='patron_updates.log'\n",
    ")\n",
    "\n",
    "# LOADING config\n",
    "with open('/home/ray/.config/sierra/api-prod.json') as f:\n",
    "    config = json.load(f)\n",
    "\n",
    "# !wget \n",
    "from chpl_patron_patch import StudentNew"
   ]
  },
  {
   "cell_type": "code",
   "execution_count": 3,
   "id": "ad859b81-34e8-4a87-afaf-bec8b07bbd30",
   "metadata": {},
   "outputs": [
    {
     "data": {
      "text/plain": [
       "<Response [200 200]>"
      ]
     },
     "execution_count": 3,
     "metadata": {},
     "output_type": "execute_result"
    }
   ],
   "source": [
    "# configure the REST API client\n",
    "client = SierraAPI(\n",
    "    config.get('sierra_api_base_url'),\n",
    "    config.get('sierra_api_key'),\n",
    "    config.get('sierra_api_secret')\n",
    ")\n",
    "\n",
    "response = client.request('GET', 'info/token')\n",
    "response.raise_for_status()"
   ]
  },
  {
   "cell_type": "code",
   "execution_count": 4,
   "id": "92ee8ae6-17cf-40f9-8c5d-0ec2f0f5d099",
   "metadata": {},
   "outputs": [],
   "source": [
    "df = pd.read_excel('./Northwest Local Student Data January 2025.xlsx')\n",
    "\n",
    "students = []\n",
    "for i, row in df.iterrows():\n",
    "    student = StudentNew(\n",
    "        last_name=row.get('Student Last Name'),\n",
    "        first_name=row.get('Student First Name'),\n",
    "        barcode=row.get('Card Number'),\n",
    "        student_id=row.get('Student ID'),\n",
    "        school_district=row.get('School District Name'),\n",
    "        pin=row.get('pin'),\n",
    "        school=row.get('School Name'),\n",
    "        birth_date=row.get('Birth Date (MMDDYYYY)'),\n",
    "        phone_number=row.get('Home Phone Number'),\n",
    "        home_legal_address=row.get('Legal Home Address (no PO Box)'),\n",
    "        home_legal_address_city=row.get('Legal Home Address City'),\n",
    "        home_legal_address_state=row.get('Legal Home Address State'),\n",
    "        home_legal_address_zip=row.get('Legal Home Address Zip Code'),\n",
    "        # notice_pref=row.get('')\n",
    "        email_address=row.get('E-mail Address'),\n",
    "        home_library_code=row.get('Home Library Code'),\n",
    "        patron_agency=row.get('Patron Agency Num'),\n",
    "        alt_id=row.get('Alt ID (optional)'),\n",
    "    )\n",
    "    students.append(student)"
   ]
  },
  {
   "cell_type": "code",
   "execution_count": null,
   "id": "935340cf-6c28-4491-9121-8eca4d9ede5e",
   "metadata": {},
   "outputs": [],
   "source": [
    "# students[0].patron_data"
   ]
  },
  {
   "cell_type": "code",
   "execution_count": 7,
   "id": "d8e66a21-d439-4507-b3d5-557a9899043b",
   "metadata": {},
   "outputs": [],
   "source": [
    "import asyncio\n",
    "\n",
    "async def create_patron(student_obj):\n",
    "    \"\"\"\n",
    "    Returns a tuple:    \n",
    "      (barcode, record_number or None)\n",
    "    \"\"\"\n",
    "    try:\n",
    "        response = await client.async_request(\n",
    "            'POST',\n",
    "            'patrons/',\n",
    "            json=student_obj.patron_data\n",
    "        )\n",
    "        response.raise_for_status()\n",
    "        logging.info(response.text)\n",
    "\n",
    "        data = response.json()\n",
    "        link = data.get(\"link\", \"\")\n",
    "        match = re.search(r'/patrons/(\\d+)', link)\n",
    "        if match:\n",
    "            record_number = match.group(1)\n",
    "            logging.info(f\"Created patron for barcode={student_obj.barcode} record={record_number}\")\n",
    "            return (student_obj.barcode, record_number)\n",
    "        else:\n",
    "            logging.warning(f\"Could not parse record number from response: {data}\")\n",
    "            return (student_obj.barcode, None)\n",
    "\n",
    "    except Exception as e:\n",
    "        logging.error(f\"Failed to create patron for barcode={student_obj.barcode}: {e}\")\n",
    "        return (student_obj.barcode, None)\n",
    "\n",
    "async def process_in_batches(students, batch_size=25):\n",
    "    \"\"\"Process creating patrons in chunks of `batch_size`.\"\"\"\n",
    "    all_results = []\n",
    "    # Loop through students in increments of `batch_size`\n",
    "    for start in range(0, len(students), batch_size):\n",
    "        batch = students[start:start + batch_size]\n",
    "        # Send these 25 requests in parallel\n",
    "        chunk_results = await asyncio.gather(\n",
    "            *(create_patron(s) for s in batch),\n",
    "            return_exceptions=True\n",
    "        )\n",
    "        all_results.extend(chunk_results)\n",
    "    return all_results\n",
    "\n",
    "# Actually run the processing\n",
    "results = await process_in_batches(students, batch_size=25)\n",
    "\n",
    "# Build and merge into the DataFrame\n",
    "results_df = pd.DataFrame(results, columns=[\"barcode\", \"record_number\"])\n",
    "# Make sure types match before merging\n",
    "df[\"Card Number\"] = df[\"Card Number\"].astype(str)\n",
    "results_df[\"barcode\"] = results_df[\"barcode\"].astype(str)\n",
    "\n",
    "df_merged = df.merge(\n",
    "    results_df, \n",
    "    how='left', \n",
    "    left_on=\"Card Number\", \n",
    "    right_on=\"barcode\"\n",
    ")\n",
    "df_merged.drop(columns=[\"barcode\"], inplace=True)\n",
    "df_merged.to_excel('output.xlsx')  # ouput to excel\n",
    "\n",
    "for r in results:\n",
    "    if isinstance(r, Exception):\n",
    "        logging.error(f\"Gathered exception: {r}\")"
   ]
  }
 ],
 "metadata": {
  "kernelspec": {
   "display_name": "Python 3 (ipykernel)",
   "language": "python",
   "name": "python3"
  },
  "language_info": {
   "codemirror_mode": {
    "name": "ipython",
    "version": 3
   },
   "file_extension": ".py",
   "mimetype": "text/x-python",
   "name": "python",
   "nbconvert_exporter": "python",
   "pygments_lexer": "ipython3",
   "version": "3.10.12"
  }
 },
 "nbformat": 4,
 "nbformat_minor": 5
}
